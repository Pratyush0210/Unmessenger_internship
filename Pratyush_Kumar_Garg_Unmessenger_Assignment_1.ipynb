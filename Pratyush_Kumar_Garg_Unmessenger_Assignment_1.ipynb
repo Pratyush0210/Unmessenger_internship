{
  "nbformat": 4,
  "nbformat_minor": 0,
  "metadata": {
    "colab": {
      "provenance": [],
      "authorship_tag": "ABX9TyP+edIKhgJijjv+x2RMvogb",
      "include_colab_link": true
    },
    "kernelspec": {
      "name": "python3",
      "display_name": "Python 3"
    },
    "language_info": {
      "name": "python"
    }
  },
  "cells": [
    {
      "cell_type": "markdown",
      "metadata": {
        "id": "view-in-github",
        "colab_type": "text"
      },
      "source": [
        "<a href=\"https://colab.research.google.com/github/Pratyush0210/Unmessenger_internship/blob/main/Pratyush_Kumar_Garg_Unmessenger_Assignment_1.ipynb\" target=\"_parent\"><img src=\"https://colab.research.google.com/assets/colab-badge.svg\" alt=\"Open In Colab\"/></a>"
      ]
    },
    {
      "cell_type": "markdown",
      "source": [
        "# **ASSINGMENT 1**\n",
        "---\n",
        "## **Submitted by:-** \n",
        "\n",
        "> ## <font color='Blue'>**Pratyush Kumar Garg**</font>\n",
        "\n"
      ],
      "metadata": {
        "id": "6yH3lCqByZ2C"
      }
    },
    {
      "cell_type": "markdown",
      "source": [
        "\n",
        "\n",
        "## **ASSIGNMENT-1**\n",
        "### **Web Scraping Project Idea Quotes to Scrape**\n",
        "> This is the Sample website to use your Scrapping Skills to scrape Name, Quotes and the Tags.\n",
        "\n",
        "> This project is based on the Internship class in which Web scrapping was discussed.\n",
        "### **Project Idea:**\n",
        "\n",
        "> Scrape the data out of the website and save the data either in the CSV or Excel file. Also use the Pandas library to use the scrapped data into a DataFrame.\n",
        "\n",
        "> Use this [WEBSITE](http://quotes.toscrape.com/page/1/).\n",
        "\n"
      ],
      "metadata": {
        "id": "GiG2SXNByAP1"
      }
    },
    {
      "cell_type": "code",
      "source": [
        "import numpy as np\n",
        "import requests\n",
        "import pandas as pd\n",
        "from bs4 import BeautifulSoup"
      ],
      "metadata": {
        "id": "1eF0408Ux-yB"
      },
      "execution_count": 31,
      "outputs": []
    },
    {
      "cell_type": "code",
      "source": [
        "\n",
        "def scrape_all_pages(n, q, t):\n",
        "    for page in range(1,11):\n",
        "\n",
        "        url = f'http://quotes.toscrape.com/page/{page}/'\n",
        "        response = requests.get(url)\n",
        "\n",
        "        soup = BeautifulSoup(response.text, \"lxml\")\n",
        "        div = soup.find_all(\"div\", class_ = \"quote\")\n",
        "\n",
        "        for k in range(len(div)):\n",
        "            span = div[k].find_all(\"span\")\n",
        "\n",
        "            q.append(span[0].text)\n",
        "\n",
        "            n.append(span[1].text.split('\\n')[0][3:])\n",
        "\n",
        "            div_tag = div[k].find_all(\"div\")\n",
        "\n",
        "            tags = div_tag[0].find_all('a')\n",
        "\n",
        "            t.append(\",\".join([i.text for i in tags]))\n",
        "    return n, q, t"
      ],
      "metadata": {
        "id": "7EFCDzSlZ8Ae"
      },
      "execution_count": 32,
      "outputs": []
    },
    {
      "cell_type": "code",
      "source": [
        "def convert_to_dict(a, b, c):\n",
        "    Quotes_to_Scrape = {\n",
        "            'Name': a,\n",
        "            'Quotes': b,\n",
        "            'Tags': c\n",
        "    }\n",
        "    return Quotes_to_Scrape"
      ],
      "metadata": {
        "id": "wTCTdkvRdfLz"
      },
      "execution_count": 34,
      "outputs": []
    },
    {
      "cell_type": "code",
      "source": [
        "if __name__ == '__main__':\n",
        "    name, quotation, Tags_lol = [], [], []\n",
        "\n",
        "    N, Q, T = scrape_all_pages(name, quotation, Tags_lol)\n",
        "\n",
        "    result_dict = convert_to_dict(N, Q, T)\n",
        "    df = pd.DataFrame(result_dict)\n",
        "\n",
        "    df.to_csv(\"QuotestoScrape_Pratyush_Garg.csv\")\n",
        "    \n"
      ],
      "metadata": {
        "id": "0__l9l5EsC6i"
      },
      "execution_count": 35,
      "outputs": []
    },
    {
      "cell_type": "code",
      "source": [
        "df.head()"
      ],
      "metadata": {
        "id": "HO2GqHs4hLgD",
        "colab": {
          "base_uri": "https://localhost:8080/",
          "height": 206
        },
        "outputId": "c4357546-9741-49d6-a6f1-72eaf37e514c"
      },
      "execution_count": 36,
      "outputs": [
        {
          "output_type": "execute_result",
          "data": {
            "text/plain": [
              "              Name                                             Quotes  \\\n",
              "0  Albert Einstein  “The world as we have created it is a process ...   \n",
              "1     J.K. Rowling  “It is our choices, Harry, that show what we t...   \n",
              "2  Albert Einstein  “There are only two ways to live your life. On...   \n",
              "3      Jane Austen  “The person, be it gentleman or lady, who has ...   \n",
              "4   Marilyn Monroe  “Imperfection is beauty, madness is genius and...   \n",
              "\n",
              "                                       Tags  \n",
              "0       change,deep-thoughts,thinking,world  \n",
              "1                         abilities,choices  \n",
              "2  inspirational,life,live,miracle,miracles  \n",
              "3             aliteracy,books,classic,humor  \n",
              "4                 be-yourself,inspirational  "
            ],
            "text/html": [
              "\n",
              "  <div id=\"df-0300d4ec-2515-4d14-bfc7-6de5ea71baad\">\n",
              "    <div class=\"colab-df-container\">\n",
              "      <div>\n",
              "<style scoped>\n",
              "    .dataframe tbody tr th:only-of-type {\n",
              "        vertical-align: middle;\n",
              "    }\n",
              "\n",
              "    .dataframe tbody tr th {\n",
              "        vertical-align: top;\n",
              "    }\n",
              "\n",
              "    .dataframe thead th {\n",
              "        text-align: right;\n",
              "    }\n",
              "</style>\n",
              "<table border=\"1\" class=\"dataframe\">\n",
              "  <thead>\n",
              "    <tr style=\"text-align: right;\">\n",
              "      <th></th>\n",
              "      <th>Name</th>\n",
              "      <th>Quotes</th>\n",
              "      <th>Tags</th>\n",
              "    </tr>\n",
              "  </thead>\n",
              "  <tbody>\n",
              "    <tr>\n",
              "      <th>0</th>\n",
              "      <td>Albert Einstein</td>\n",
              "      <td>“The world as we have created it is a process ...</td>\n",
              "      <td>change,deep-thoughts,thinking,world</td>\n",
              "    </tr>\n",
              "    <tr>\n",
              "      <th>1</th>\n",
              "      <td>J.K. Rowling</td>\n",
              "      <td>“It is our choices, Harry, that show what we t...</td>\n",
              "      <td>abilities,choices</td>\n",
              "    </tr>\n",
              "    <tr>\n",
              "      <th>2</th>\n",
              "      <td>Albert Einstein</td>\n",
              "      <td>“There are only two ways to live your life. On...</td>\n",
              "      <td>inspirational,life,live,miracle,miracles</td>\n",
              "    </tr>\n",
              "    <tr>\n",
              "      <th>3</th>\n",
              "      <td>Jane Austen</td>\n",
              "      <td>“The person, be it gentleman or lady, who has ...</td>\n",
              "      <td>aliteracy,books,classic,humor</td>\n",
              "    </tr>\n",
              "    <tr>\n",
              "      <th>4</th>\n",
              "      <td>Marilyn Monroe</td>\n",
              "      <td>“Imperfection is beauty, madness is genius and...</td>\n",
              "      <td>be-yourself,inspirational</td>\n",
              "    </tr>\n",
              "  </tbody>\n",
              "</table>\n",
              "</div>\n",
              "      <button class=\"colab-df-convert\" onclick=\"convertToInteractive('df-0300d4ec-2515-4d14-bfc7-6de5ea71baad')\"\n",
              "              title=\"Convert this dataframe to an interactive table.\"\n",
              "              style=\"display:none;\">\n",
              "        \n",
              "  <svg xmlns=\"http://www.w3.org/2000/svg\" height=\"24px\"viewBox=\"0 0 24 24\"\n",
              "       width=\"24px\">\n",
              "    <path d=\"M0 0h24v24H0V0z\" fill=\"none\"/>\n",
              "    <path d=\"M18.56 5.44l.94 2.06.94-2.06 2.06-.94-2.06-.94-.94-2.06-.94 2.06-2.06.94zm-11 1L8.5 8.5l.94-2.06 2.06-.94-2.06-.94L8.5 2.5l-.94 2.06-2.06.94zm10 10l.94 2.06.94-2.06 2.06-.94-2.06-.94-.94-2.06-.94 2.06-2.06.94z\"/><path d=\"M17.41 7.96l-1.37-1.37c-.4-.4-.92-.59-1.43-.59-.52 0-1.04.2-1.43.59L10.3 9.45l-7.72 7.72c-.78.78-.78 2.05 0 2.83L4 21.41c.39.39.9.59 1.41.59.51 0 1.02-.2 1.41-.59l7.78-7.78 2.81-2.81c.8-.78.8-2.07 0-2.86zM5.41 20L4 18.59l7.72-7.72 1.47 1.35L5.41 20z\"/>\n",
              "  </svg>\n",
              "      </button>\n",
              "      \n",
              "  <style>\n",
              "    .colab-df-container {\n",
              "      display:flex;\n",
              "      flex-wrap:wrap;\n",
              "      gap: 12px;\n",
              "    }\n",
              "\n",
              "    .colab-df-convert {\n",
              "      background-color: #E8F0FE;\n",
              "      border: none;\n",
              "      border-radius: 50%;\n",
              "      cursor: pointer;\n",
              "      display: none;\n",
              "      fill: #1967D2;\n",
              "      height: 32px;\n",
              "      padding: 0 0 0 0;\n",
              "      width: 32px;\n",
              "    }\n",
              "\n",
              "    .colab-df-convert:hover {\n",
              "      background-color: #E2EBFA;\n",
              "      box-shadow: 0px 1px 2px rgba(60, 64, 67, 0.3), 0px 1px 3px 1px rgba(60, 64, 67, 0.15);\n",
              "      fill: #174EA6;\n",
              "    }\n",
              "\n",
              "    [theme=dark] .colab-df-convert {\n",
              "      background-color: #3B4455;\n",
              "      fill: #D2E3FC;\n",
              "    }\n",
              "\n",
              "    [theme=dark] .colab-df-convert:hover {\n",
              "      background-color: #434B5C;\n",
              "      box-shadow: 0px 1px 3px 1px rgba(0, 0, 0, 0.15);\n",
              "      filter: drop-shadow(0px 1px 2px rgba(0, 0, 0, 0.3));\n",
              "      fill: #FFFFFF;\n",
              "    }\n",
              "  </style>\n",
              "\n",
              "      <script>\n",
              "        const buttonEl =\n",
              "          document.querySelector('#df-0300d4ec-2515-4d14-bfc7-6de5ea71baad button.colab-df-convert');\n",
              "        buttonEl.style.display =\n",
              "          google.colab.kernel.accessAllowed ? 'block' : 'none';\n",
              "\n",
              "        async function convertToInteractive(key) {\n",
              "          const element = document.querySelector('#df-0300d4ec-2515-4d14-bfc7-6de5ea71baad');\n",
              "          const dataTable =\n",
              "            await google.colab.kernel.invokeFunction('convertToInteractive',\n",
              "                                                     [key], {});\n",
              "          if (!dataTable) return;\n",
              "\n",
              "          const docLinkHtml = 'Like what you see? Visit the ' +\n",
              "            '<a target=\"_blank\" href=https://colab.research.google.com/notebooks/data_table.ipynb>data table notebook</a>'\n",
              "            + ' to learn more about interactive tables.';\n",
              "          element.innerHTML = '';\n",
              "          dataTable['output_type'] = 'display_data';\n",
              "          await google.colab.output.renderOutput(dataTable, element);\n",
              "          const docLink = document.createElement('div');\n",
              "          docLink.innerHTML = docLinkHtml;\n",
              "          element.appendChild(docLink);\n",
              "        }\n",
              "      </script>\n",
              "    </div>\n",
              "  </div>\n",
              "  "
            ]
          },
          "metadata": {},
          "execution_count": 36
        }
      ]
    },
    {
      "cell_type": "code",
      "source": [],
      "metadata": {
        "id": "s6hHNRmCh9K1"
      },
      "execution_count": 36,
      "outputs": []
    },
    {
      "cell_type": "code",
      "source": [],
      "metadata": {
        "id": "rVwM4oDqh_gn"
      },
      "execution_count": 36,
      "outputs": []
    },
    {
      "cell_type": "code",
      "source": [],
      "metadata": {
        "id": "bvD2txaWiTFV"
      },
      "execution_count": 36,
      "outputs": []
    }
  ]
}